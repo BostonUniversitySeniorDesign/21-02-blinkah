{
  "nbformat": 4,
  "nbformat_minor": 0,
  "metadata": {
    "colab": {
      "name": "BD_ALPR_1.ipynb",
      "provenance": [],
      "collapsed_sections": []
    },
    "kernelspec": {
      "name": "python3",
      "display_name": "Python 3"
    }
  },
  "cells": [
    {
      "cell_type": "code",
      "metadata": {
        "id": "6ohsLP4ith81"
      },
      "source": [
        "import cv2\n",
        "import imutils\n",
        "import numpy as np\n",
        "from google.colab.patches import cv2_imshow\n",
        "print(\"Importing completed\")"
      ],
      "execution_count": null,
      "outputs": []
    },
    {
      "cell_type": "code",
      "metadata": {
        "id": "PgjBQZsft8AR"
      },
      "source": [
        "class BlinkahALPR:\n",
        "  def __init__(self, min_aspect_ratio = 2, max_aspect_ratio = 5, debug = False):\n",
        "    self.min_aspect_ratio = min_aspect_ratio\n",
        "    self.max_aspect_ratio = max_aspect_ratio\n",
        "    self.debug = debug\n",
        "\n",
        "  def debug_showimg(self, title, image):\n",
        "    if self.debug:\n",
        "      print(title)\n",
        "      cv2_imshow(image)\n",
        "\n",
        "  def find_plates(self, grey, max_candidates = 5):\n",
        "    # Perform blackhat transformation to reveal digits\n",
        "    rect_kern = cv2.getStructuringElement(cv2.MORPH_RECT, (13, 5))\n",
        "    blackhat = cv2.morphologyEx(grey, cv2.MORPH_BLACKHAT, rect_kern)\n",
        "    self.debug_showimg(\"Blackhat\", blackhat)\n",
        "\n",
        "    # TODO: Gradient morphological transforms\n",
        "\n",
        "    return None\n",
        "\n",
        "  def final_plate(self, grey, candidates):\n",
        "    \n",
        "    # TODO: filtering out best plate from candidates\n",
        "\n",
        "    return None\n",
        "\n",
        "  def compile_tesseract_opt(self, psm = 7):\n",
        "    alphanum = \"ABCDEFGHIJKLMNOPQRSTUVWXYZ0123456789\"\n",
        "    options = \"-c tessedit_char_whitelist={}\".format(alphanum)\n",
        "    options += \" -psm {}\".format(psm)\n",
        "    return options"
      ],
      "execution_count": null,
      "outputs": []
    },
    {
      "cell_type": "code",
      "metadata": {
        "id": "szynxO-AzHNn"
      },
      "source": [
        "def run_alpr(image_path):\n",
        "  alpr = BlinkahALPR(debug = True)\n",
        "\n",
        "  image = cv2.imread(image_path)\n",
        "  image = imutils.resize(image, width=600)\n",
        "  grey = cv2.cvtColor(image, cv2.COLOR_BGR2GRAY)\n",
        "  alpr.debug_showimg(\"Source image\", image)\n",
        "  candidates = alpr.find_plates(grey)\n",
        "  (roi, plate_contour) = alpr.final_plate(grey, candidates)"
      ],
      "execution_count": null,
      "outputs": []
    },
    {
      "cell_type": "code",
      "metadata": {
        "id": "TbO4Z66wzsbw"
      },
      "source": [
        "alpr = BlinkahALPR(debug = True)\n",
        "image = cv2.imread(\"CAR IMAGE PATH GOES HERE\")\n",
        "image = imutils.resize(image, width=600)"
      ],
      "execution_count": null,
      "outputs": []
    },
    {
      "cell_type": "code",
      "metadata": {
        "id": "YhlKhvE9zxHH"
      },
      "source": [
        ""
      ],
      "execution_count": null,
      "outputs": []
    }
  ]
}