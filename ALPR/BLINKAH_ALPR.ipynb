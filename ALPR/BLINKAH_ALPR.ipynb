{
  "nbformat": 4,
  "nbformat_minor": 0,
  "metadata": {
    "colab": {
      "name": "BD_ALPR_1.ipynb",
      "provenance": [],
      "collapsed_sections": []
    },
    "kernelspec": {
      "name": "python3",
      "display_name": "Python 3"
    }
  },
  "cells": [
    {
      "cell_type": "code",
      "metadata": {
        "id": "6ohsLP4ith81"
      },
      "source": [
        "import cv2\n",
        "import imutils\n",
        "import numpy as np\n",
        "from google.colab.patches import cv2_imshow\n",
        "print(\"Importing completed\")"
      ],
      "execution_count": null,
      "outputs": []
    },
    {
      "cell_type": "code",
      "metadata": {
        "id": "PgjBQZsft8AR"
      },
      "source": [
        "class BlinkahALPR:\n",
        "  def __init__(self, min_aspect_ratio = 2, max_aspect_ratio = 5, debug = False):\n",
        "    self.min_aspect_ratio = min_aspect_ratio\n",
        "    self.max_aspect_ratio = max_aspect_ratio\n",
        "    self.debug = debug\n",
        "\n",
        "  def debug_showimg(self, title, image):\n",
        "    if self.debug:\n",
        "      print(title)\n",
        "      cv2_imshow(image)\n",
        "      # cv2.waitKey(0)\n",
        "\n",
        "  def find_plates(self, grey, max_candidates = 5):\n",
        "    # Perform blackhat transformation to reveal digits\n",
        "    rect_kern = cv2.getStructuringElement(cv2.MORPH_RECT, (13, 5))\n",
        "    blackhat = cv2.morphologyEx(grey, cv2.MORPH_BLACKHAT, rect_kern)\n",
        "    self.debug_showimg(\"Blackhat\", blackhat)\n",
        "\n",
        "    # Find light regions in image\n",
        "    square_kern = cv2.getStructuringElement(cv2.MORPH_RECT, (3, 3))\n",
        "    light = cv2.morphologyEx(grey, cv2.MORPH_CLOSE, square_kern)\n",
        "    light = cv2.threshold(light, 0, 255, cv2.THRESH_BINARY | cv2.THRESH_OTSU)[1]\n",
        "    self.debug_showimg(\"Light regions\", light)\n",
        "\n",
        "    # Compute scharr gradient\n",
        "    grad_x = cv2.Sobel(blackhat, ddepth = cv2.CV_32F, dx = 1, dy = 0, ksize = -1)\n",
        "    grad_x = np.absolute(grad_x)\n",
        "    (min_val, max_val) = (np.min(grad_x), np.max(grad_x))\n",
        "    grad_x = ((grad_x - min_val) / (max_val - min_val)) * 255\n",
        "    grad_x = grad_x.astype(\"uint8\")\n",
        "    self.debug_showimg(\"Sharr gradient\", grad_x)\n",
        "\n",
        "    # Gradient threshold smoothing\n",
        "    grad_x = cv2.GaussianBlur(grad_x, (5, 5), 0)\n",
        "    grad_x = cv2.morphologyEx(grad_x, cv2.MORPH_CLOSE, rect_kern)\n",
        "    thresh = cv2.threshold(grad_x, 0, 255, cv2.THRESH_BINARY | cv2.THRESH_OTSU)[1]\n",
        "    self.debug_showimg(\"Gradient threshold\", thresh)\n",
        "\n",
        "    # Gradient erosion + dilation\n",
        "    thresh = cv2.erode(thresh, None, iterations = 2)\n",
        "    thresh = cv2.dilate(thresh, None, iterations = 2)\n",
        "    self.debug_showimg(\"Gradient Erosion + Dilation\", thresh)\n",
        "    thresh = cv2.bitwise_and(thresh, thresh, mask = light)\n",
        "    thresh = cv2.dilate(thresh, None, iterations = 2)\n",
        "    thresh = cv2.erode(thresh, None, iterations = 1)\n",
        "    self.debug_showimg(\"Final\", thresh)\n",
        "\n",
        "    # Find contours\n",
        "    contours = cv2.findContours(thresh.copy(), cv2.RETR_EXTERNAL, cv2.CHAIN_APPROX_SIMPLE)\n",
        "    contours = imutils.grab_contours(contours)\n",
        "    contours = sorted(contours, key = cv2.contourArea, reverse = True)[:max_candidates]\n",
        "\n",
        "    return contours\n",
        "\n",
        "  def final_plate(self, grey, candidates, clearborder = False):\n",
        "    plate_contour = None\n",
        "    roi = None\n",
        "\n",
        "    for c in candidates:\n",
        "      (x, y, w, h) = cv2.boundingRect(c)\n",
        "      ar = w / float(h)\n",
        "\n",
        "      if ar >= self.min_aspect_ratio and ar <= self.max_aspect_ratio:\n",
        "        plate_contour = c\n",
        "        license_plate = grey[y:y + h, x:x + w]\n",
        "        roi = cv2.threshold(license_plate, 0, 255, cv2.THRESH_BINARY_INV | cv2.THRESH_OTSU)[1]\n",
        "\n",
        "        if clearborder:\n",
        "          roi = clear_border(roi)\n",
        "        \n",
        "        self.debug_showimg(\"License plate\", license_plate)\n",
        "        self.debug_showimg(\"ROI\", roi)\n",
        "        break\n",
        "\n",
        "    return (roi, plate_contour)\n",
        "\n",
        "  def compile_tesseract_opt(self, psm = 7):\n",
        "    alphanum = \"ABCDEFGHIJKLMNOPQRSTUVWXYZ0123456789\"\n",
        "    options = \"-c tessedit_char_whitelist={}\".format(alphanum)\n",
        "    options += \" -psm {}\".format(psm)\n",
        "    return options"
      ],
      "execution_count": null,
      "outputs": []
    },
    {
      "cell_type": "code",
      "metadata": {
        "id": "szynxO-AzHNn"
      },
      "source": [
        "def run_alpr(image_path):\n",
        "  alpr = BlinkahALPR(debug = True)\n",
        "\n",
        "  image = cv2.imread(image_path)\n",
        "  image = imutils.resize(image, width=600)\n",
        "  grey = cv2.cvtColor(image, cv2.COLOR_BGR2GRAY)\n",
        "  alpr.debug_showimg(\"Source image\", image)\n",
        "  candidates = alpr.find_plates(grey)\n",
        "  (roi, plate_contour) = alpr.final_plate(grey, candidates)"
      ],
      "execution_count": null,
      "outputs": []
    },
    {
      "cell_type": "code",
      "metadata": {
        "id": "TbO4Z66wzsbw"
      },
      "source": [
        "alpr = BlinkahALPR(debug = True)\n",
        "image = cv2.imread(\"car1.jpg\")\n",
        "image = imutils.resize(image, width=600)"
      ],
      "execution_count": null,
      "outputs": []
    }
  ]
}